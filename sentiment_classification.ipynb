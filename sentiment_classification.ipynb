{
 "cells": [
  {
   "cell_type": "markdown",
   "metadata": {},
   "source": [
    "# Classificação de Sentimentos de Textos em Português \n",
    "\n",
    "Este notebook aborda o uso de Machine learning para classificar se um comentário é **bom** ou **ruim** com base em comentários de produto ou serviços de empresas.\n",
    "Para comparar o resultado obtido pelo modelo de Machine Learning será utilizado um modelo de LLM e além da acurácia será obervado o custo computacional. \n",
    "\n",
    "-Dataset: https://www.kaggle.com/datasets/fredericods/ptbr-sentiment-analysis-datasets/data"
   ]
  },
  {
   "cell_type": "markdown",
   "metadata": {},
   "source": [
    "## Importantando Bibliotecas"
   ]
  },
  {
   "cell_type": "code",
   "execution_count": 1,
   "metadata": {},
   "outputs": [
    {
     "name": "stderr",
     "output_type": "stream",
     "text": [
      "[nltk_data] Downloading package stopwords to C:\\Users\\Bruno\n",
      "[nltk_data]     Dutra\\AppData\\Roaming\\nltk_data...\n",
      "[nltk_data]   Package stopwords is already up-to-date!\n",
      "[nltk_data] Downloading package rslp to C:\\Users\\Bruno\n",
      "[nltk_data]     Dutra\\AppData\\Roaming\\nltk_data...\n",
      "[nltk_data]   Package rslp is already up-to-date!\n"
     ]
    },
    {
     "data": {
      "text/plain": [
       "True"
      ]
     },
     "execution_count": 1,
     "metadata": {},
     "output_type": "execute_result"
    }
   ],
   "source": [
    "# visualização gráfica\n",
    "import pandas as pd\n",
    "import numpy as np\n",
    "import matplotlib.pyplot as plt\n",
    "import seaborn as sns\n",
    "# separação de dataset\n",
    "from sklearn.model_selection import train_test_split\n",
    "# vetorização\n",
    "from sklearn.feature_extraction.text import TfidfVectorizer\n",
    "\n",
    "# modelos de Machine learning\n",
    "from sklearn.ensemble import RandomForestClassifier\n",
    "from sklearn.linear_model import LogisticRegression\n",
    "from sklearn.svm import SVC\n",
    "\n",
    "# métricas de avaliação\n",
    "from sklearn.metrics import classification_report, confusion_matrix, accuracy_score\n",
    "import utils\n",
    "\n",
    "# NLP\n",
    "import nltk\n",
    "from nltk.corpus import stopwords\n",
    "import string\n",
    "\n",
    "# Baixando stopwords do NLTK\n",
    "nltk.download('stopwords')\n",
    "nltk.download('rslp')  # Stemmer para português\n",
    "\n"
   ]
  },
  {
   "cell_type": "markdown",
   "metadata": {},
   "source": [
    "## Explorando os dados "
   ]
  },
  {
   "cell_type": "markdown",
   "metadata": {},
   "source": [
    "**Carregando o dataset: Buscapé**"
   ]
  },
  {
   "cell_type": "code",
   "execution_count": 2,
   "metadata": {},
   "outputs": [
    {
     "data": {
      "text/html": [
       "<div>\n",
       "<style scoped>\n",
       "    .dataframe tbody tr th:only-of-type {\n",
       "        vertical-align: middle;\n",
       "    }\n",
       "\n",
       "    .dataframe tbody tr th {\n",
       "        vertical-align: top;\n",
       "    }\n",
       "\n",
       "    .dataframe thead th {\n",
       "        text-align: right;\n",
       "    }\n",
       "</style>\n",
       "<table border=\"1\" class=\"dataframe\">\n",
       "  <thead>\n",
       "    <tr style=\"text-align: right;\">\n",
       "      <th></th>\n",
       "      <th>original_index</th>\n",
       "      <th>review_text</th>\n",
       "      <th>review_text_processed</th>\n",
       "      <th>review_text_tokenized</th>\n",
       "      <th>polarity</th>\n",
       "      <th>rating</th>\n",
       "      <th>kfold_polarity</th>\n",
       "      <th>kfold_rating</th>\n",
       "    </tr>\n",
       "  </thead>\n",
       "  <tbody>\n",
       "    <tr>\n",
       "      <th>0</th>\n",
       "      <td>4_55516</td>\n",
       "      <td>Estou muito satisfeito, o visor é melhor do qu...</td>\n",
       "      <td>estou muito satisfeito, o visor e melhor do qu...</td>\n",
       "      <td>['estou', 'muito', 'satisfeito', 'visor', 'mel...</td>\n",
       "      <td>1.0</td>\n",
       "      <td>4</td>\n",
       "      <td>1</td>\n",
       "      <td>1</td>\n",
       "    </tr>\n",
       "    <tr>\n",
       "      <th>1</th>\n",
       "      <td>minus_1_105339</td>\n",
       "      <td>\"muito boa\\n\\nO que gostei: preco\\n\\nO que não...</td>\n",
       "      <td>\"muito boa\\n\\no que gostei: preco\\n\\no que nao...</td>\n",
       "      <td>['muito', 'boa', 'que', 'gostei', 'preco', 'qu...</td>\n",
       "      <td>1.0</td>\n",
       "      <td>5</td>\n",
       "      <td>1</td>\n",
       "      <td>1</td>\n",
       "    </tr>\n",
       "    <tr>\n",
       "      <th>2</th>\n",
       "      <td>23_382139</td>\n",
       "      <td>Rápida, ótima qualidade de impressão e fácil d...</td>\n",
       "      <td>rapida, otima qualidade de impressao e facil d...</td>\n",
       "      <td>['rapida', 'otima', 'qualidade', 'de', 'impres...</td>\n",
       "      <td>1.0</td>\n",
       "      <td>5</td>\n",
       "      <td>1</td>\n",
       "      <td>1</td>\n",
       "    </tr>\n",
       "    <tr>\n",
       "      <th>3</th>\n",
       "      <td>2_446456</td>\n",
       "      <td>Produto de ótima qualidade em todos os quesito!</td>\n",
       "      <td>produto de otima qualidade em todos os quesito!</td>\n",
       "      <td>['produto', 'de', 'otima', 'qualidade', 'em', ...</td>\n",
       "      <td>1.0</td>\n",
       "      <td>5</td>\n",
       "      <td>1</td>\n",
       "      <td>1</td>\n",
       "    </tr>\n",
       "    <tr>\n",
       "      <th>4</th>\n",
       "      <td>0_11324</td>\n",
       "      <td>Precisava comprar uma tv compatível com meu dv...</td>\n",
       "      <td>precisava comprar uma tv compativel com meu dv...</td>\n",
       "      <td>['precisava', 'comprar', 'uma', 'tv', 'compati...</td>\n",
       "      <td>1.0</td>\n",
       "      <td>5</td>\n",
       "      <td>1</td>\n",
       "      <td>1</td>\n",
       "    </tr>\n",
       "    <tr>\n",
       "      <th>5</th>\n",
       "      <td>0_466829</td>\n",
       "      <td>eu adorei este secador é muito bom,potente e d...</td>\n",
       "      <td>eu adorei este secador e muito bom,potente e d...</td>\n",
       "      <td>['eu', 'adorei', 'este', 'secador', 'muito', '...</td>\n",
       "      <td>1.0</td>\n",
       "      <td>5</td>\n",
       "      <td>1</td>\n",
       "      <td>1</td>\n",
       "    </tr>\n",
       "    <tr>\n",
       "      <th>6</th>\n",
       "      <td>0_369493</td>\n",
       "      <td>bom\\n\\nO que gostei: muitos aplicativos gratis...</td>\n",
       "      <td>bom\\n\\no que gostei: muitos aplicativos gratis...</td>\n",
       "      <td>['bom', 'que', 'gostei', 'muitos', 'aplicativo...</td>\n",
       "      <td>NaN</td>\n",
       "      <td>3</td>\n",
       "      <td>-1</td>\n",
       "      <td>1</td>\n",
       "    </tr>\n",
       "    <tr>\n",
       "      <th>7</th>\n",
       "      <td>0_135152</td>\n",
       "      <td>positiva\\n\\nO que gostei: cumpriu com as espec...</td>\n",
       "      <td>positiva\\n\\no que gostei: cumpriu com as espec...</td>\n",
       "      <td>['positiva', 'que', 'gostei', 'cumpriu', 'com'...</td>\n",
       "      <td>1.0</td>\n",
       "      <td>4</td>\n",
       "      <td>1</td>\n",
       "      <td>1</td>\n",
       "    </tr>\n",
       "    <tr>\n",
       "      <th>8</th>\n",
       "      <td>0_299007</td>\n",
       "      <td>Muito satisfeita com o telefone, atendeu as mi...</td>\n",
       "      <td>muito satisfeita com o telefone, atendeu as mi...</td>\n",
       "      <td>['muito', 'satisfeita', 'com', 'telefone', 'at...</td>\n",
       "      <td>1.0</td>\n",
       "      <td>4</td>\n",
       "      <td>1</td>\n",
       "      <td>1</td>\n",
       "    </tr>\n",
       "    <tr>\n",
       "      <th>9</th>\n",
       "      <td>0_198604</td>\n",
       "      <td>Estou muito contente com a utlização da maquin...</td>\n",
       "      <td>estou muito contente com a utlizacao da maquin...</td>\n",
       "      <td>['estou', 'muito', 'contente', 'com', 'utlizac...</td>\n",
       "      <td>1.0</td>\n",
       "      <td>4</td>\n",
       "      <td>1</td>\n",
       "      <td>1</td>\n",
       "    </tr>\n",
       "  </tbody>\n",
       "</table>\n",
       "</div>"
      ],
      "text/plain": [
       "   original_index                                        review_text  \\\n",
       "0         4_55516  Estou muito satisfeito, o visor é melhor do qu...   \n",
       "1  minus_1_105339  \"muito boa\\n\\nO que gostei: preco\\n\\nO que não...   \n",
       "2       23_382139  Rápida, ótima qualidade de impressão e fácil d...   \n",
       "3        2_446456    Produto de ótima qualidade em todos os quesito!   \n",
       "4         0_11324  Precisava comprar uma tv compatível com meu dv...   \n",
       "5        0_466829  eu adorei este secador é muito bom,potente e d...   \n",
       "6        0_369493  bom\\n\\nO que gostei: muitos aplicativos gratis...   \n",
       "7        0_135152  positiva\\n\\nO que gostei: cumpriu com as espec...   \n",
       "8        0_299007  Muito satisfeita com o telefone, atendeu as mi...   \n",
       "9        0_198604  Estou muito contente com a utlização da maquin...   \n",
       "\n",
       "                               review_text_processed  \\\n",
       "0  estou muito satisfeito, o visor e melhor do qu...   \n",
       "1  \"muito boa\\n\\no que gostei: preco\\n\\no que nao...   \n",
       "2  rapida, otima qualidade de impressao e facil d...   \n",
       "3    produto de otima qualidade em todos os quesito!   \n",
       "4  precisava comprar uma tv compativel com meu dv...   \n",
       "5  eu adorei este secador e muito bom,potente e d...   \n",
       "6  bom\\n\\no que gostei: muitos aplicativos gratis...   \n",
       "7  positiva\\n\\no que gostei: cumpriu com as espec...   \n",
       "8  muito satisfeita com o telefone, atendeu as mi...   \n",
       "9  estou muito contente com a utlizacao da maquin...   \n",
       "\n",
       "                               review_text_tokenized  polarity  rating  \\\n",
       "0  ['estou', 'muito', 'satisfeito', 'visor', 'mel...       1.0       4   \n",
       "1  ['muito', 'boa', 'que', 'gostei', 'preco', 'qu...       1.0       5   \n",
       "2  ['rapida', 'otima', 'qualidade', 'de', 'impres...       1.0       5   \n",
       "3  ['produto', 'de', 'otima', 'qualidade', 'em', ...       1.0       5   \n",
       "4  ['precisava', 'comprar', 'uma', 'tv', 'compati...       1.0       5   \n",
       "5  ['eu', 'adorei', 'este', 'secador', 'muito', '...       1.0       5   \n",
       "6  ['bom', 'que', 'gostei', 'muitos', 'aplicativo...       NaN       3   \n",
       "7  ['positiva', 'que', 'gostei', 'cumpriu', 'com'...       1.0       4   \n",
       "8  ['muito', 'satisfeita', 'com', 'telefone', 'at...       1.0       4   \n",
       "9  ['estou', 'muito', 'contente', 'com', 'utlizac...       1.0       4   \n",
       "\n",
       "   kfold_polarity  kfold_rating  \n",
       "0               1             1  \n",
       "1               1             1  \n",
       "2               1             1  \n",
       "3               1             1  \n",
       "4               1             1  \n",
       "5               1             1  \n",
       "6              -1             1  \n",
       "7               1             1  \n",
       "8               1             1  \n",
       "9               1             1  "
      ]
     },
     "execution_count": 2,
     "metadata": {},
     "output_type": "execute_result"
    }
   ],
   "source": [
    "data = pd.read_csv('Datasets/buscape.csv')\n",
    "data.head(10)"
   ]
  },
  {
   "cell_type": "markdown",
   "metadata": {},
   "source": [
    "**Removendo Colunas Irrelevatens**"
   ]
  },
  {
   "cell_type": "code",
   "execution_count": 3,
   "metadata": {},
   "outputs": [
    {
     "data": {
      "text/html": [
       "<div>\n",
       "<style scoped>\n",
       "    .dataframe tbody tr th:only-of-type {\n",
       "        vertical-align: middle;\n",
       "    }\n",
       "\n",
       "    .dataframe tbody tr th {\n",
       "        vertical-align: top;\n",
       "    }\n",
       "\n",
       "    .dataframe thead th {\n",
       "        text-align: right;\n",
       "    }\n",
       "</style>\n",
       "<table border=\"1\" class=\"dataframe\">\n",
       "  <thead>\n",
       "    <tr style=\"text-align: right;\">\n",
       "      <th></th>\n",
       "      <th>review_text</th>\n",
       "      <th>polarity</th>\n",
       "      <th>rating</th>\n",
       "    </tr>\n",
       "  </thead>\n",
       "  <tbody>\n",
       "    <tr>\n",
       "      <th>0</th>\n",
       "      <td>Estou muito satisfeito, o visor é melhor do qu...</td>\n",
       "      <td>1.0</td>\n",
       "      <td>4</td>\n",
       "    </tr>\n",
       "    <tr>\n",
       "      <th>1</th>\n",
       "      <td>\"muito boa\\n\\nO que gostei: preco\\n\\nO que não...</td>\n",
       "      <td>1.0</td>\n",
       "      <td>5</td>\n",
       "    </tr>\n",
       "    <tr>\n",
       "      <th>2</th>\n",
       "      <td>Rápida, ótima qualidade de impressão e fácil d...</td>\n",
       "      <td>1.0</td>\n",
       "      <td>5</td>\n",
       "    </tr>\n",
       "    <tr>\n",
       "      <th>3</th>\n",
       "      <td>Produto de ótima qualidade em todos os quesito!</td>\n",
       "      <td>1.0</td>\n",
       "      <td>5</td>\n",
       "    </tr>\n",
       "    <tr>\n",
       "      <th>4</th>\n",
       "      <td>Precisava comprar uma tv compatível com meu dv...</td>\n",
       "      <td>1.0</td>\n",
       "      <td>5</td>\n",
       "    </tr>\n",
       "    <tr>\n",
       "      <th>...</th>\n",
       "      <td>...</td>\n",
       "      <td>...</td>\n",
       "      <td>...</td>\n",
       "    </tr>\n",
       "    <tr>\n",
       "      <th>84986</th>\n",
       "      <td>Produto muito bom, simples e barato</td>\n",
       "      <td>1.0</td>\n",
       "      <td>5</td>\n",
       "    </tr>\n",
       "    <tr>\n",
       "      <th>84987</th>\n",
       "      <td>O esquema antigo de desmontagem e limpeza das ...</td>\n",
       "      <td>NaN</td>\n",
       "      <td>3</td>\n",
       "    </tr>\n",
       "    <tr>\n",
       "      <th>84988</th>\n",
       "      <td>Esse jogo é muito maneiro é um jogo onde vc te...</td>\n",
       "      <td>1.0</td>\n",
       "      <td>5</td>\n",
       "    </tr>\n",
       "    <tr>\n",
       "      <th>84989</th>\n",
       "      <td>Muito bom e intuitivo!\\n\\nO que gostei: Educa ...</td>\n",
       "      <td>NaN</td>\n",
       "      <td>3</td>\n",
       "    </tr>\n",
       "    <tr>\n",
       "      <th>84990</th>\n",
       "      <td>Meu irmão possui um e acho excelente, estou ec...</td>\n",
       "      <td>1.0</td>\n",
       "      <td>5</td>\n",
       "    </tr>\n",
       "  </tbody>\n",
       "</table>\n",
       "<p>84991 rows × 3 columns</p>\n",
       "</div>"
      ],
      "text/plain": [
       "                                             review_text  polarity  rating\n",
       "0      Estou muito satisfeito, o visor é melhor do qu...       1.0       4\n",
       "1      \"muito boa\\n\\nO que gostei: preco\\n\\nO que não...       1.0       5\n",
       "2      Rápida, ótima qualidade de impressão e fácil d...       1.0       5\n",
       "3        Produto de ótima qualidade em todos os quesito!       1.0       5\n",
       "4      Precisava comprar uma tv compatível com meu dv...       1.0       5\n",
       "...                                                  ...       ...     ...\n",
       "84986                Produto muito bom, simples e barato       1.0       5\n",
       "84987  O esquema antigo de desmontagem e limpeza das ...       NaN       3\n",
       "84988  Esse jogo é muito maneiro é um jogo onde vc te...       1.0       5\n",
       "84989  Muito bom e intuitivo!\\n\\nO que gostei: Educa ...       NaN       3\n",
       "84990  Meu irmão possui um e acho excelente, estou ec...       1.0       5\n",
       "\n",
       "[84991 rows x 3 columns]"
      ]
     },
     "execution_count": 3,
     "metadata": {},
     "output_type": "execute_result"
    }
   ],
   "source": [
    "data.drop(\n",
    "    columns = [\n",
    "        \"original_index\",\n",
    "        \"review_text_processed\", \n",
    "        \"review_text_tokenized\",\n",
    "        \"kfold_polarity\",\n",
    "        \"kfold_rating\",\n",
    "    ],\n",
    "    inplace = True\n",
    ")\n",
    "data"
   ]
  },
  {
   "cell_type": "markdown",
   "metadata": {},
   "source": [
    "**Análise e remoção de dados Nulos**"
   ]
  },
  {
   "cell_type": "code",
   "execution_count": 4,
   "metadata": {},
   "outputs": [
    {
     "name": "stdout",
     "output_type": "stream",
     "text": [
      "Número total de amostras: 66817\n",
      "Número de amostras com label Nulo ou NaN: 11364, isso equivale a 17.008 % do Dataset\n"
     ]
    },
    {
     "data": {
      "image/png": "[encoded data removed]",
      "text/plain": [
       "<Figure size 640x480 with 2 Axes>"
      ]
     },
     "metadata": {},
     "output_type": "display_data"
    }
   ],
   "source": [
    "# visualização de dados nulos por coluna\n",
    "sns.heatmap(data.isnull())\n",
    "\n",
    "# Quantidade de dados Nulos\n",
    "total_samples = int(data[\"polarity\"].sum())\n",
    "null_samples = data[\"polarity\"].isnull().sum()\n",
    "\n",
    "print(f'Número total de amostras: {total_samples}')\n",
    "print(f'Número de amostras com label Nulo ou NaN: {null_samples}, isso equivale a {null_samples*100/total_samples :.3f} % do Dataset')\n",
    "\n",
    "#apaga registros nulos\n",
    "data.dropna(inplace=True)"
   ]
  },
  {
   "cell_type": "markdown",
   "metadata": {},
   "source": [
    "**Análise dos comentários Positivos e Negativos**"
   ]
  },
  {
   "cell_type": "markdown",
   "metadata": {},
   "source": [
    "**Positivos**"
   ]
  },
  {
   "cell_type": "code",
   "execution_count": 32,
   "metadata": {},
   "outputs": [
    {
     "data": {
      "text/html": [
       "<div>\n",
       "<style scoped>\n",
       "    .dataframe tbody tr th:only-of-type {\n",
       "        vertical-align: middle;\n",
       "    }\n",
       "\n",
       "    .dataframe tbody tr th {\n",
       "        vertical-align: top;\n",
       "    }\n",
       "\n",
       "    .dataframe thead th {\n",
       "        text-align: right;\n",
       "    }\n",
       "</style>\n",
       "<table border=\"1\" class=\"dataframe\">\n",
       "  <thead>\n",
       "    <tr style=\"text-align: right;\">\n",
       "      <th></th>\n",
       "      <th>review_text</th>\n",
       "      <th>polarity</th>\n",
       "      <th>rating</th>\n",
       "    </tr>\n",
       "  </thead>\n",
       "  <tbody>\n",
       "    <tr>\n",
       "      <th>0</th>\n",
       "      <td>Estou muito satisfeito, o visor é melhor do qu...</td>\n",
       "      <td>1.0</td>\n",
       "      <td>4</td>\n",
       "    </tr>\n",
       "    <tr>\n",
       "      <th>1</th>\n",
       "      <td>\"muito boa\\n\\nO que gostei: preco\\n\\nO que não...</td>\n",
       "      <td>1.0</td>\n",
       "      <td>5</td>\n",
       "    </tr>\n",
       "    <tr>\n",
       "      <th>2</th>\n",
       "      <td>Rápida, ótima qualidade de impressão e fácil d...</td>\n",
       "      <td>1.0</td>\n",
       "      <td>5</td>\n",
       "    </tr>\n",
       "    <tr>\n",
       "      <th>3</th>\n",
       "      <td>Produto de ótima qualidade em todos os quesito!</td>\n",
       "      <td>1.0</td>\n",
       "      <td>5</td>\n",
       "    </tr>\n",
       "    <tr>\n",
       "      <th>4</th>\n",
       "      <td>Precisava comprar uma tv compatível com meu dv...</td>\n",
       "      <td>1.0</td>\n",
       "      <td>5</td>\n",
       "    </tr>\n",
       "    <tr>\n",
       "      <th>...</th>\n",
       "      <td>...</td>\n",
       "      <td>...</td>\n",
       "      <td>...</td>\n",
       "    </tr>\n",
       "    <tr>\n",
       "      <th>84984</th>\n",
       "      <td>Excelente custo-benefício apresentado por este...</td>\n",
       "      <td>1.0</td>\n",
       "      <td>5</td>\n",
       "    </tr>\n",
       "    <tr>\n",
       "      <th>84985</th>\n",
       "      <td>Game muito legal, com uma grande variedade de ...</td>\n",
       "      <td>1.0</td>\n",
       "      <td>5</td>\n",
       "    </tr>\n",
       "    <tr>\n",
       "      <th>84986</th>\n",
       "      <td>Produto muito bom, simples e barato</td>\n",
       "      <td>1.0</td>\n",
       "      <td>5</td>\n",
       "    </tr>\n",
       "    <tr>\n",
       "      <th>84988</th>\n",
       "      <td>Esse jogo é muito maneiro é um jogo onde vc te...</td>\n",
       "      <td>1.0</td>\n",
       "      <td>5</td>\n",
       "    </tr>\n",
       "    <tr>\n",
       "      <th>84990</th>\n",
       "      <td>Meu irmão possui um e acho excelente, estou ec...</td>\n",
       "      <td>1.0</td>\n",
       "      <td>5</td>\n",
       "    </tr>\n",
       "  </tbody>\n",
       "</table>\n",
       "<p>66816 rows × 3 columns</p>\n",
       "</div>"
      ],
      "text/plain": [
       "                                             review_text  polarity  rating\n",
       "0      Estou muito satisfeito, o visor é melhor do qu...       1.0       4\n",
       "1      \"muito boa\\n\\nO que gostei: preco\\n\\nO que não...       1.0       5\n",
       "2      Rápida, ótima qualidade de impressão e fácil d...       1.0       5\n",
       "3        Produto de ótima qualidade em todos os quesito!       1.0       5\n",
       "4      Precisava comprar uma tv compatível com meu dv...       1.0       5\n",
       "...                                                  ...       ...     ...\n",
       "84984  Excelente custo-benefício apresentado por este...       1.0       5\n",
       "84985  Game muito legal, com uma grande variedade de ...       1.0       5\n",
       "84986                Produto muito bom, simples e barato       1.0       5\n",
       "84988  Esse jogo é muito maneiro é um jogo onde vc te...       1.0       5\n",
       "84990  Meu irmão possui um e acho excelente, estou ec...       1.0       5\n",
       "\n",
       "[66816 rows x 3 columns]"
      ]
     },
     "execution_count": 32,
     "metadata": {},
     "output_type": "execute_result"
    }
   ],
   "source": [
    "data[data['polarity']==1][['review_text','polarity','rating']]"
   ]
  },
  {
   "cell_type": "code",
   "execution_count": 38,
   "metadata": {},
   "outputs": [
    {
     "name": "stdout",
     "output_type": "stream",
     "text": [
      "Comentário 0: \n",
      "\n",
      "Recomendo este produto porque reune em um só produto a qualidade de imagens, baixo custo e ampla rede de oficinas autorizadas.\n",
      "\n",
      "O que gostei: Potencia\n",
      "\n",
      "O que não gostei: preço\n",
      "--------------------------------------------------------\n",
      "Comentário 1: \n",
      "\n",
      "Esse Kenzo é sofisticado, excelente para ocasiões especiais. Durante o dia é bom usar bem pouquinho, já que a fragrância dele é um EDP e muito marcante.\n",
      "\n",
      "\n",
      "O que gostei: Excelente fixação!\n",
      "\n",
      "O que não gostei: absolutamente nada!\n",
      "--------------------------------------------------------\n",
      "Comentário 2: \n",
      "\n",
      "APESAR DE SER UMA MÁQUINA RELATIVAMENTE GRANDE, É UM ÓTIMO APARELHO PRINCIPALMENTE PRA QUEM PRECISA TIRAR FOTOS NO DIA A DIA.\n",
      "\n",
      "O que gostei: ÓTIMO CUSTO BENEFÍCIO\n",
      "\n",
      "O que não gostei: O PRODUTO É UM POUCO GRANDE\n",
      "--------------------------------------------------------\n"
     ]
    }
   ],
   "source": [
    "for idx, text in enumerate(data[data['polarity']==1]['review_text'].sample(3)):\n",
    "    print(f'Comentário {idx}: \\n')\n",
    "    print(text)\n",
    "    print('--------------------------------------------------------')"
   ]
  },
  {
   "cell_type": "markdown",
   "metadata": {},
   "source": [
    "**Negativos**"
   ]
  },
  {
   "cell_type": "code",
   "execution_count": 39,
   "metadata": {},
   "outputs": [
    {
     "data": {
      "text/html": [
       "<div>\n",
       "<style scoped>\n",
       "    .dataframe tbody tr th:only-of-type {\n",
       "        vertical-align: middle;\n",
       "    }\n",
       "\n",
       "    .dataframe tbody tr th {\n",
       "        vertical-align: top;\n",
       "    }\n",
       "\n",
       "    .dataframe thead th {\n",
       "        text-align: right;\n",
       "    }\n",
       "</style>\n",
       "<table border=\"1\" class=\"dataframe\">\n",
       "  <thead>\n",
       "    <tr style=\"text-align: right;\">\n",
       "      <th></th>\n",
       "      <th>review_text</th>\n",
       "      <th>polarity</th>\n",
       "      <th>rating</th>\n",
       "    </tr>\n",
       "  </thead>\n",
       "  <tbody>\n",
       "    <tr>\n",
       "      <th>11</th>\n",
       "      <td>nao comparia novamente essa marca, pois paguei...</td>\n",
       "      <td>0.0</td>\n",
       "      <td>2</td>\n",
       "    </tr>\n",
       "    <tr>\n",
       "      <th>48</th>\n",
       "      <td>tem uma boa aderencia te da mas agilidades no ...</td>\n",
       "      <td>0.0</td>\n",
       "      <td>2</td>\n",
       "    </tr>\n",
       "    <tr>\n",
       "      <th>54</th>\n",
       "      <td>Somente mais um jogo do estilo, nada realmente...</td>\n",
       "      <td>0.0</td>\n",
       "      <td>2</td>\n",
       "    </tr>\n",
       "    <tr>\n",
       "      <th>79</th>\n",
       "      <td>Estou insatisfeito com o produto porque a Elet...</td>\n",
       "      <td>0.0</td>\n",
       "      <td>1</td>\n",
       "    </tr>\n",
       "    <tr>\n",
       "      <th>90</th>\n",
       "      <td>SANSUNG É MINHA PIOR COMPRA que já fiz, não re...</td>\n",
       "      <td>0.0</td>\n",
       "      <td>1</td>\n",
       "    </tr>\n",
       "    <tr>\n",
       "      <th>...</th>\n",
       "      <td>...</td>\n",
       "      <td>...</td>\n",
       "      <td>...</td>\n",
       "    </tr>\n",
       "    <tr>\n",
       "      <th>84935</th>\n",
       "      <td>Ele e um celular funcional para quem deseja mu...</td>\n",
       "      <td>0.0</td>\n",
       "      <td>2</td>\n",
       "    </tr>\n",
       "    <tr>\n",
       "      <th>84941</th>\n",
       "      <td>Produtos NKS. Nunca mais. Uma porcaria e o SAC...</td>\n",
       "      <td>0.0</td>\n",
       "      <td>1</td>\n",
       "    </tr>\n",
       "    <tr>\n",
       "      <th>84950</th>\n",
       "      <td>Comprei este por ele ser mais acessivel (valor...</td>\n",
       "      <td>0.0</td>\n",
       "      <td>1</td>\n",
       "    </tr>\n",
       "    <tr>\n",
       "      <th>84964</th>\n",
       "      <td>comprei o ar condicionado a pouco mais de um a...</td>\n",
       "      <td>0.0</td>\n",
       "      <td>2</td>\n",
       "    </tr>\n",
       "    <tr>\n",
       "      <th>84973</th>\n",
       "      <td>Eu continuo pagando por um produto que talvez ...</td>\n",
       "      <td>0.0</td>\n",
       "      <td>1</td>\n",
       "    </tr>\n",
       "  </tbody>\n",
       "</table>\n",
       "<p>6810 rows × 3 columns</p>\n",
       "</div>"
      ],
      "text/plain": [
       "                                             review_text  polarity  rating\n",
       "11     nao comparia novamente essa marca, pois paguei...       0.0       2\n",
       "48     tem uma boa aderencia te da mas agilidades no ...       0.0       2\n",
       "54     Somente mais um jogo do estilo, nada realmente...       0.0       2\n",
       "79     Estou insatisfeito com o produto porque a Elet...       0.0       1\n",
       "90     SANSUNG É MINHA PIOR COMPRA que já fiz, não re...       0.0       1\n",
       "...                                                  ...       ...     ...\n",
       "84935  Ele e um celular funcional para quem deseja mu...       0.0       2\n",
       "84941  Produtos NKS. Nunca mais. Uma porcaria e o SAC...       0.0       1\n",
       "84950  Comprei este por ele ser mais acessivel (valor...       0.0       1\n",
       "84964  comprei o ar condicionado a pouco mais de um a...       0.0       2\n",
       "84973  Eu continuo pagando por um produto que talvez ...       0.0       1\n",
       "\n",
       "[6810 rows x 3 columns]"
      ]
     },
     "execution_count": 39,
     "metadata": {},
     "output_type": "execute_result"
    }
   ],
   "source": [
    "data[data['polarity']==0][['review_text','polarity','rating']]"
   ]
  },
  {
   "cell_type": "code",
   "execution_count": 40,
   "metadata": {},
   "outputs": [
    {
     "name": "stdout",
     "output_type": "stream",
     "text": [
      "Comentário 0: \n",
      "\n",
      "Não é possivel tanta queima de reistencia como ocorre. Tudo está em ordem e a resistencia não dura sequer 15 dias. ABSURDO.\n",
      "Não recomendo a ninguem.\n",
      "\n",
      "O que gostei: Boa vazão de agua\n",
      "\n",
      "O que não gostei: Resitencia nao dura nada, e o *** *** é terrivel\n",
      "--------------------------------------------------------\n",
      "Comentário 1: \n",
      "\n",
      "Antes de comprar no site siciliano.com leiam pelo que estou passando.\n",
      "Fiz o pedido de compra de uma TV e eles tentaram entregar-la sem nota fiscal e após solicitação de cancelamento da compra e retirada do produto os mesmos após uma semana apareceram com a TV e uma nota fiscal, só que o produto não funcionou. Continuei solicitando a devolução e cancelamento da compra e eles apenas informam que abriram um pedido e ninguém entra em contato ou manda email para esclarecer e solucionar o problema. Esta novela já tem mais de 10 dias...\n",
      "\n",
      "O que gostei: não consegui usar\n",
      "\n",
      "O que não gostei: a empresa onde comprei\n",
      "--------------------------------------------------------\n",
      "Comentário 2: \n",
      "\n",
      "Produto horrível, péssima qualidade de som e imagem. O barato que sai caro!!\n",
      "\n",
      "O que gostei: Não há. Essa tv é pior do que a minha convencional de 29 polegadas\n",
      "\n",
      "O que não gostei: Imagem muito ruim, nem com as funções de ajuste consegue-se ter uma boa imagem.\n",
      "--------------------------------------------------------\n"
     ]
    }
   ],
   "source": [
    "for idx, text in enumerate(data[data['polarity']==0]['review_text'].sample(3)):\n",
    "    print(f'Comentário {idx}: \\n')\n",
    "    print(text)\n",
    "    print('--------------------------------------------------------')"
   ]
  },
  {
   "cell_type": "markdown",
   "metadata": {},
   "source": [
    "**Análise da Distribuição das classes**"
   ]
  },
  {
   "cell_type": "code",
   "execution_count": null,
   "metadata": {},
   "outputs": [
    {
     "name": "stdout",
     "output_type": "stream",
     "text": [
      "polarity\n",
      "1.0    66816\n",
      "0.0     6810\n",
      "Name: count, dtype: int64\n"
     ]
    },
    {
     "data": {
      "image/png": "[encoded data removed]",
      "text/plain": [
       "<Figure size 640x480 with 1 Axes>"
      ]
     },
     "metadata": {},
     "output_type": "display_data"
    }
   ],
   "source": [
    "#print(data.info())  # Informações gerais\n",
    "print(data['polarity'].value_counts())  # Distribuição das classes\n",
    "\n",
    "# Visualizando a distribuição das classes\n",
    "sns.countplot(x='polarity', data=data)\n",
    "plt.title('Distribuição de Sentimentos')\n",
    "plt.show()\n"
   ]
  },
  {
   "cell_type": "markdown",
   "metadata": {},
   "source": [
    "## Pré processamento dos dados "
   ]
  },
  {
   "cell_type": "markdown",
   "metadata": {},
   "source": [
    "**Ajuste de Distribuição das Classes**"
   ]
  },
  {
   "cell_type": "code",
   "execution_count": 7,
   "metadata": {},
   "outputs": [
    {
     "data": {
      "image/png": "[encoded data removed]",
      "text/plain": [
       "<Figure size 640x480 with 1 Axes>"
      ]
     },
     "metadata": {},
     "output_type": "display_data"
    }
   ],
   "source": [
    "positive_partial = data.query(\"polarity == 1\").sample(6810)\n",
    "\n",
    "negative_total = data.query(\"polarity == 0\")\n",
    "dataset = pd.concat([positive_partial, negative_total])\n",
    "dataset.shape\n",
    "\n",
    "# Visualizando a distribuição das classes\n",
    "sns.countplot(x='polarity', data=dataset)\n",
    "plt.title('Distribuição de Sentimentos')\n",
    "plt.show()"
   ]
  },
  {
   "cell_type": "markdown",
   "metadata": {},
   "source": [
    "**Limpeza de pontuação e padronização em caixa baixa**"
   ]
  },
  {
   "cell_type": "code",
   "execution_count": 8,
   "metadata": {},
   "outputs": [],
   "source": [
    "# Função de limpeza\n",
    "def preprocess_text(text):\n",
    "    stop_words = set(stopwords.words('portuguese'))\n",
    "    text = text.lower()  # Lowercase\n",
    "    text = ''.join([char for char in text if char not in string.punctuation])  # Remove pontuações\n",
    "    words = text.split()\n",
    "    words = [word for word in words if word not in stop_words]  # Remove stopwords\n",
    "    return ' '.join(words)\n",
    "\n",
    "# Aplicando a função\n",
    "dataset['cleaned_text'] = dataset['review_text'].apply(preprocess_text)"
   ]
  },
  {
   "cell_type": "code",
   "execution_count": 9,
   "metadata": {},
   "outputs": [
    {
     "data": {
      "text/html": [
       "<div>\n",
       "<style scoped>\n",
       "    .dataframe tbody tr th:only-of-type {\n",
       "        vertical-align: middle;\n",
       "    }\n",
       "\n",
       "    .dataframe tbody tr th {\n",
       "        vertical-align: top;\n",
       "    }\n",
       "\n",
       "    .dataframe thead th {\n",
       "        text-align: right;\n",
       "    }\n",
       "</style>\n",
       "<table border=\"1\" class=\"dataframe\">\n",
       "  <thead>\n",
       "    <tr style=\"text-align: right;\">\n",
       "      <th></th>\n",
       "      <th>cleaned_text</th>\n",
       "      <th>polarity</th>\n",
       "    </tr>\n",
       "  </thead>\n",
       "  <tbody>\n",
       "    <tr>\n",
       "      <th>70640</th>\n",
       "      <td>exelente celular precisa viajando acessar inte...</td>\n",
       "      <td>1.0</td>\n",
       "    </tr>\n",
       "    <tr>\n",
       "      <th>50277</th>\n",
       "      <td>produto excelente gostei encontrei</td>\n",
       "      <td>1.0</td>\n",
       "    </tr>\n",
       "    <tr>\n",
       "      <th>27377</th>\n",
       "      <td>bom nota 10</td>\n",
       "      <td>1.0</td>\n",
       "    </tr>\n",
       "    <tr>\n",
       "      <th>56748</th>\n",
       "      <td>produto bom pode comprar medo arrependimento p...</td>\n",
       "      <td>1.0</td>\n",
       "    </tr>\n",
       "    <tr>\n",
       "      <th>58770</th>\n",
       "      <td>vale pena pra verao preco baixo pra muita dive...</td>\n",
       "      <td>1.0</td>\n",
       "    </tr>\n",
       "    <tr>\n",
       "      <th>...</th>\n",
       "      <td>...</td>\n",
       "      <td>...</td>\n",
       "    </tr>\n",
       "    <tr>\n",
       "      <th>10991</th>\n",
       "      <td>tablet pouco 1 mês agr apresentou problema gra...</td>\n",
       "      <td>1.0</td>\n",
       "    </tr>\n",
       "    <tr>\n",
       "      <th>82935</th>\n",
       "      <td>procura geladeira pequena vi apaixonei pois ta...</td>\n",
       "      <td>1.0</td>\n",
       "    </tr>\n",
       "    <tr>\n",
       "      <th>35517</th>\n",
       "      <td>decidi produto satisfeita funcionalidades pass...</td>\n",
       "      <td>1.0</td>\n",
       "    </tr>\n",
       "    <tr>\n",
       "      <th>74306</th>\n",
       "      <td>ótimo produto procurando acredito encontrei go...</td>\n",
       "      <td>1.0</td>\n",
       "    </tr>\n",
       "    <tr>\n",
       "      <th>56482</th>\n",
       "      <td>produto bom potente 6 velocidades várias funçõ...</td>\n",
       "      <td>1.0</td>\n",
       "    </tr>\n",
       "  </tbody>\n",
       "</table>\n",
       "<p>6810 rows × 2 columns</p>\n",
       "</div>"
      ],
      "text/plain": [
       "                                            cleaned_text  polarity\n",
       "70640  exelente celular precisa viajando acessar inte...       1.0\n",
       "50277                 produto excelente gostei encontrei       1.0\n",
       "27377                                        bom nota 10       1.0\n",
       "56748  produto bom pode comprar medo arrependimento p...       1.0\n",
       "58770  vale pena pra verao preco baixo pra muita dive...       1.0\n",
       "...                                                  ...       ...\n",
       "10991  tablet pouco 1 mês agr apresentou problema gra...       1.0\n",
       "82935  procura geladeira pequena vi apaixonei pois ta...       1.0\n",
       "35517  decidi produto satisfeita funcionalidades pass...       1.0\n",
       "74306  ótimo produto procurando acredito encontrei go...       1.0\n",
       "56482  produto bom potente 6 velocidades várias funçõ...       1.0\n",
       "\n",
       "[6810 rows x 2 columns]"
      ]
     },
     "execution_count": 9,
     "metadata": {},
     "output_type": "execute_result"
    }
   ],
   "source": [
    "dataset[dataset['polarity']==1][['cleaned_text','polarity']]"
   ]
  },
  {
   "cell_type": "markdown",
   "metadata": {},
   "source": [
    "**Vetorização**"
   ]
  },
  {
   "cell_type": "code",
   "execution_count": 10,
   "metadata": {},
   "outputs": [],
   "source": [
    "# Seleciona as colunas 'cleaned_text' e 'polarity' do dataset para criação dos conjuntos de dados X e y\n",
    "X = dataset['cleaned_text']\n",
    "y = dataset['polarity']\n",
    "\n",
    "# Realiza a vetorização dos textos utilizando TF-IDF (Term Frequency-Inverse Document Frequency)\n",
    "#   - TF-IDF é uma técnica utilizada para transformar texto em vetores numéricos, que podem ser processados por algoritmos de aprendizado de máquina.\n",
    "#   - Remove ruído: palavras comuns, mas irrelevantes, como \"de\", \"a\", \"o\", têm pouco peso.\n",
    "#   - Captura relevância: destaca palavras que diferenciam documentos.\n",
    "#   - Escalável: funciona bem em conjuntos de dados grandes.\n",
    "\n",
    "# Cria uma instância do TfidfVectorizer com o parâmetro max_features=5000, que limita o número de características (palavras) consideradas\n",
    "vectorizer = TfidfVectorizer(max_features=5000)\n",
    "\n",
    "# Aplica a vetorização TF-IDF ao conjunto de dados X e converte o resultado para uma matriz (array)\n",
    "#   - O método fit_transform() significa que o modelo se ajusta aos dados e, em seguida, transforma os dados de acordo com o modelo ajustado.\n",
    "#   - O resultado é uma matriz de vetores de pesos TF-IDF para cada documento no conjunto de dados.\n",
    "X = vectorizer.fit_transform(X).toarray()"
   ]
  },
  {
   "cell_type": "markdown",
   "metadata": {},
   "source": [
    "## Divisão do Dataset para o Treino"
   ]
  },
  {
   "cell_type": "code",
   "execution_count": 11,
   "metadata": {},
   "outputs": [],
   "source": [
    "# Divisão treino/teste\n",
    "X_train, X_test, y_train, y_test = train_test_split(X, y, test_size=0.2, random_state=42, stratify=y)\n"
   ]
  },
  {
   "cell_type": "markdown",
   "metadata": {},
   "source": [
    "## Treinamento dos Modelos de ML"
   ]
  },
  {
   "cell_type": "markdown",
   "metadata": {},
   "source": [
    "**Random Forest**"
   ]
  },
  {
   "cell_type": "code",
   "execution_count": 12,
   "metadata": {},
   "outputs": [],
   "source": [
    "# Treinando o modelo de Floresta Aleatória\n",
    "model_rf = RandomForestClassifier(n_estimators=300, random_state=42)\n",
    "model_rf.fit(X_train, y_train)\n",
    "y_pred_rf = model_rf.predict(X_test)"
   ]
  },
  {
   "cell_type": "markdown",
   "metadata": {},
   "source": [
    "**Support Vector Machine**"
   ]
  },
  {
   "cell_type": "code",
   "execution_count": 13,
   "metadata": {},
   "outputs": [],
   "source": [
    "# Treinando o modelo de Suporte de Vetor (SVC)\n",
    "model_svc = SVC(kernel='linear', C=1)\n",
    "model_svc.fit(X_train, y_train)\n",
    "\n",
    "y_pred_svc = model_svc.predict(X_test)"
   ]
  },
  {
   "cell_type": "markdown",
   "metadata": {},
   "source": [
    "**Logistic Regression**"
   ]
  },
  {
   "cell_type": "code",
   "execution_count": 14,
   "metadata": {},
   "outputs": [],
   "source": [
    "# Treinando o modelo Regressão Logística\n",
    "model_lr = LogisticRegression(max_iter=1000)\n",
    "model_lr.fit(X_train, y_train)\n",
    "\n",
    "y_pred_lr = model_lr.predict(X_test)"
   ]
  },
  {
   "cell_type": "markdown",
   "metadata": {},
   "source": [
    "## Visualizando Resultados"
   ]
  },
  {
   "cell_type": "markdown",
   "metadata": {},
   "source": [
    "**Resultados do Random Forest**"
   ]
  },
  {
   "cell_type": "code",
   "execution_count": 16,
   "metadata": {},
   "outputs": [
    {
     "name": "stdout",
     "output_type": "stream",
     "text": [
      "F1-score: 82.064 %\n"
     ]
    },
    {
     "data": {
      "image/png": "[encoded data removed]",
      "text/plain": [
       "<Figure size 600x400 with 2 Axes>"
      ]
     },
     "metadata": {},
     "output_type": "display_data"
    }
   ],
   "source": [
    "# Matriz de confusão\n",
    "cfm_lr = utils.plot_confusion_matrix(['Negativo','Positivo',], labels_val = y_test, labels_val_predicted= y_pred_rf, Get_matrix=True)\n",
    "\n",
    "metrics_per_class_rf, pr_rf, rec_rf, f1_rf, acc_rf = utils.model_average_std_metrics(cf_matrix=cfm_lr, Verbose=False) \n",
    "print(f'F1-score: {f1_rf[0]*100 :.3f} %')"
   ]
  },
  {
   "cell_type": "markdown",
   "metadata": {},
   "source": [
    "**Resultados do Support vector Machine**"
   ]
  },
  {
   "cell_type": "code",
   "execution_count": 17,
   "metadata": {},
   "outputs": [
    {
     "name": "stdout",
     "output_type": "stream",
     "text": [
      "F1-score: 83.608 %\n"
     ]
    },
    {
     "data": {
      "image/png": "[encoded data removed]",
      "text/plain": [
       "<Figure size 600x400 with 2 Axes>"
      ]
     },
     "metadata": {},
     "output_type": "display_data"
    }
   ],
   "source": [
    "# Matriz de confusão\n",
    "cfm_svc = utils.plot_confusion_matrix(['Negativo','Positivo',], labels_val = y_test, labels_val_predicted= y_pred_svc, Get_matrix=True)\n",
    "\n",
    "metrics_per_class_svc, pr_svc, rec_svc, f1_svc, acc_svc = utils.model_average_std_metrics(cf_matrix=cfm_svc, Verbose=False) \n",
    "print(f'F1-score: {f1_svc[0]*100 :.3f} %')"
   ]
  },
  {
   "cell_type": "markdown",
   "metadata": {},
   "source": [
    "**Resultados do Logistic Regression**"
   ]
  },
  {
   "cell_type": "code",
   "execution_count": 18,
   "metadata": {},
   "outputs": [
    {
     "name": "stdout",
     "output_type": "stream",
     "text": [
      "F1-score: 84.021 %\n"
     ]
    },
    {
     "data": {
      "image/png": "[encoded data removed]",
      "text/plain": [
       "<Figure size 600x400 with 2 Axes>"
      ]
     },
     "metadata": {},
     "output_type": "display_data"
    }
   ],
   "source": [
    "# Matriz de confusão\n",
    "cfm_lr = utils.plot_confusion_matrix(['Negativo','Positivo',], labels_val = y_test, labels_val_predicted= y_pred_lr, Get_matrix=True)\n",
    "\n",
    "metrics_per_class_lr, pr_lr, rec_lr, f1_lr, acc_lr = utils.model_average_std_metrics(cf_matrix=cfm_lr, Verbose=False) \n",
    "print(f'F1-score: {f1_lr[0]*100 :.3f} %')"
   ]
  },
  {
   "cell_type": "markdown",
   "metadata": {},
   "source": [
    "**Resultado Gráfico do Comparativo dos Modelos com as Métricas**"
   ]
  },
  {
   "cell_type": "code",
   "execution_count": 20,
   "metadata": {},
   "outputs": [
    {
     "data": {
      "image/png": "[encoded data removed]",
      "text/plain": [
       "<Figure size 1200x400 with 3 Axes>"
      ]
     },
     "metadata": {},
     "output_type": "display_data"
    }
   ],
   "source": [
    "# Cálculo das métricas para cada modelo\n",
    "f1_scores = [f1_rf[0], f1_svc[0], f1_lr[0]]\n",
    "\n",
    "recalls =[rec_rf[0], rec_svc[0], rec_lr[0]]\n",
    "\n",
    "precisions = [pr_rf[0], pr_svc[0], pr_lr[0]]\n",
    "\n",
    "# Criação dos gráficos\n",
    "plt.figure(figsize=(12, 4))\n",
    "\n",
    "plt.subplot(1, 3, 1)\n",
    "plt.bar(['RF', 'SVM', 'LR'], f1_scores, color=['#3498db', '#e74c3c', '#2ecc71'])\n",
    "plt.xlabel('Modelo')\n",
    "plt.ylabel('F1-score')\n",
    "plt.title('F1-score')\n",
    "plt.xticks(rotation=45)  # Rotaciona o eixo x para evitar sobreposição\n",
    "for i, v in enumerate(f1_scores):\n",
    "    plt.text(i, v - 0.05, f'{v:.3f}', color='black', ha='center')\n",
    "\n",
    "plt.subplot(1, 3, 2)\n",
    "plt.bar(['RF', 'SVM', 'LR'], recalls, color=['#3498db', '#e74c3c', '#2ecc71'])\n",
    "plt.xlabel('Modelo')\n",
    "plt.ylabel('Recall')\n",
    "plt.title('Recall')\n",
    "plt.xticks(rotation=45)  # Rotaciona o eixo x para evitar sobreposição\n",
    "for i, v in enumerate(recalls):\n",
    "    plt.text(i, v - 0.05, f'{v:.3f}', color='black', ha='center')\n",
    "\n",
    "plt.subplot(1, 3, 3)\n",
    "plt.bar(['RF', 'SVM', 'LR'], precisions, color=['#3498db', '#e74c3c', '#2ecc71'])\n",
    "plt.xlabel('Modelo')\n",
    "plt.ylabel('Precisão')\n",
    "plt.title('Precisão')\n",
    "plt.xticks(rotation=45)  # Rotaciona o eixo x para evitar sobreposição\n",
    "for i, v in enumerate(precisions):\n",
    "    plt.text(i, v - 0.05, f'{v:.3f}', color='black', ha='center')\n",
    "\n",
    "plt.tight_layout()\n",
    "plt.show()"
   ]
  },
  {
   "cell_type": "markdown",
   "metadata": {},
   "source": [
    "**Feature Importance com o RF**"
   ]
  },
  {
   "cell_type": "code",
   "execution_count": 42,
   "metadata": {},
   "outputs": [
    {
     "data": {
      "image/png": "[encoded data removed]",
      "text/plain": [
       "<Figure size 640x480 with 1 Axes>"
      ]
     },
     "metadata": {},
     "output_type": "display_data"
    }
   ],
   "source": [
    "# Palavras mais importantes no modelo\n",
    "importances = model_rf.feature_importances_\n",
    "indices = np.argsort(importances)[-10:]  # Top 10\n",
    "features = vectorizer.get_feature_names_out()\n",
    "\n",
    "plt.figure()\n",
    "plt.barh(range(len(indices)), importances[indices], align='center')\n",
    "plt.yticks(range(len(indices)), [features[i] for i in indices])\n",
    "plt.xlabel('Importância')\n",
    "plt.title('Palavras mais importantes')\n",
    "plt.show()"
   ]
  },
  {
   "cell_type": "markdown",
   "metadata": {},
   "source": [
    "## Inferência"
   ]
  },
  {
   "cell_type": "code",
   "execution_count": 21,
   "metadata": {},
   "outputs": [
    {
     "data": {
      "text/html": [
       "<div>\n",
       "<style scoped>\n",
       "    .dataframe tbody tr th:only-of-type {\n",
       "        vertical-align: middle;\n",
       "    }\n",
       "\n",
       "    .dataframe tbody tr th {\n",
       "        vertical-align: top;\n",
       "    }\n",
       "\n",
       "    .dataframe thead th {\n",
       "        text-align: right;\n",
       "    }\n",
       "</style>\n",
       "<table border=\"1\" class=\"dataframe\">\n",
       "  <thead>\n",
       "    <tr style=\"text-align: right;\">\n",
       "      <th></th>\n",
       "      <th>review_text</th>\n",
       "      <th>polarity</th>\n",
       "      <th>rating</th>\n",
       "      <th>cleaned_text</th>\n",
       "    </tr>\n",
       "  </thead>\n",
       "  <tbody>\n",
       "    <tr>\n",
       "      <th>5789</th>\n",
       "      <td>Meu sogro tem e a imagem é simplesmente maravi...</td>\n",
       "      <td>1.0</td>\n",
       "      <td>5</td>\n",
       "      <td>sogro imagem simplesmente maravilhosa</td>\n",
       "    </tr>\n",
       "    <tr>\n",
       "      <th>46044</th>\n",
       "      <td>Olá Meu nome e Rebeca , tenho o produto  Midea...</td>\n",
       "      <td>1.0</td>\n",
       "      <td>5</td>\n",
       "      <td>olá nome rebeca produto midea mpt1010cr portát...</td>\n",
       "    </tr>\n",
       "    <tr>\n",
       "      <th>57729</th>\n",
       "      <td>uma porcaria,não vale nada não gaste seu suado...</td>\n",
       "      <td>0.0</td>\n",
       "      <td>1</td>\n",
       "      <td>porcarianão vale nada gaste suado dinheiro por...</td>\n",
       "    </tr>\n",
       "    <tr>\n",
       "      <th>75088</th>\n",
       "      <td>Uma excelente bicicleta para iniciantes. As ro...</td>\n",
       "      <td>1.0</td>\n",
       "      <td>5</td>\n",
       "      <td>excelente bicicleta iniciantes rodinhas oferec...</td>\n",
       "    </tr>\n",
       "    <tr>\n",
       "      <th>5720</th>\n",
       "      <td>microondas tem a porta muito dura de abrir, el...</td>\n",
       "      <td>0.0</td>\n",
       "      <td>2</td>\n",
       "      <td>microondas porta dura abrir vem pra frente cad...</td>\n",
       "    </tr>\n",
       "    <tr>\n",
       "      <th>5873</th>\n",
       "      <td>Se quer qualidade e um bom produto adquirir sc...</td>\n",
       "      <td>1.0</td>\n",
       "      <td>4</td>\n",
       "      <td>quer qualidade bom produto adquirir scarlet tu...</td>\n",
       "    </tr>\n",
       "    <tr>\n",
       "      <th>30049</th>\n",
       "      <td>O sistema giratório é muito eficiente pois jog...</td>\n",
       "      <td>1.0</td>\n",
       "      <td>5</td>\n",
       "      <td>sistema giratório eficiente pois joga calor to...</td>\n",
       "    </tr>\n",
       "    <tr>\n",
       "      <th>77224</th>\n",
       "      <td>OTIMO  POI O PACOTE OFFICE ME AUXILIA MUITO NO...</td>\n",
       "      <td>1.0</td>\n",
       "      <td>5</td>\n",
       "      <td>otimo poi pacote office auxilia dia dia uso ta...</td>\n",
       "    </tr>\n",
       "    <tr>\n",
       "      <th>40261</th>\n",
       "      <td>Bom\\n\\nO que gostei: Bom\\n\\nO que não gostei: ...</td>\n",
       "      <td>0.0</td>\n",
       "      <td>1</td>\n",
       "      <td>bom gostei bom gostei nenhuma</td>\n",
       "    </tr>\n",
       "    <tr>\n",
       "      <th>83543</th>\n",
       "      <td>Esse celular é ótimo, pequeno e tem de tudo! S...</td>\n",
       "      <td>1.0</td>\n",
       "      <td>4</td>\n",
       "      <td>celular ótimo pequeno tudo super fácil manusea...</td>\n",
       "    </tr>\n",
       "  </tbody>\n",
       "</table>\n",
       "</div>"
      ],
      "text/plain": [
       "                                             review_text  polarity  rating  \\\n",
       "5789   Meu sogro tem e a imagem é simplesmente maravi...       1.0       5   \n",
       "46044  Olá Meu nome e Rebeca , tenho o produto  Midea...       1.0       5   \n",
       "57729  uma porcaria,não vale nada não gaste seu suado...       0.0       1   \n",
       "75088  Uma excelente bicicleta para iniciantes. As ro...       1.0       5   \n",
       "5720   microondas tem a porta muito dura de abrir, el...       0.0       2   \n",
       "5873   Se quer qualidade e um bom produto adquirir sc...       1.0       4   \n",
       "30049  O sistema giratório é muito eficiente pois jog...       1.0       5   \n",
       "77224  OTIMO  POI O PACOTE OFFICE ME AUXILIA MUITO NO...       1.0       5   \n",
       "40261  Bom\\n\\nO que gostei: Bom\\n\\nO que não gostei: ...       0.0       1   \n",
       "83543  Esse celular é ótimo, pequeno e tem de tudo! S...       1.0       4   \n",
       "\n",
       "                                            cleaned_text  \n",
       "5789               sogro imagem simplesmente maravilhosa  \n",
       "46044  olá nome rebeca produto midea mpt1010cr portát...  \n",
       "57729  porcarianão vale nada gaste suado dinheiro por...  \n",
       "75088  excelente bicicleta iniciantes rodinhas oferec...  \n",
       "5720   microondas porta dura abrir vem pra frente cad...  \n",
       "5873   quer qualidade bom produto adquirir scarlet tu...  \n",
       "30049  sistema giratório eficiente pois joga calor to...  \n",
       "77224  otimo poi pacote office auxilia dia dia uso ta...  \n",
       "40261                      bom gostei bom gostei nenhuma  \n",
       "83543  celular ótimo pequeno tudo super fácil manusea...  "
      ]
     },
     "execution_count": 21,
     "metadata": {},
     "output_type": "execute_result"
    }
   ],
   "source": [
    "# Sorteio de 10 Amostras para a Inferência\n",
    "inference_dataset=dataset.sample(10)\n",
    "inference_dataset"
   ]
  },
  {
   "cell_type": "code",
   "execution_count": 45,
   "metadata": {},
   "outputs": [],
   "source": [
    "# Aplica a vetorização TF-IDF ao conjunto de Teste\n",
    "X_inference = vectorizer.transform(inference_dataset['cleaned_text']).toarray()\n",
    "\n",
    "# inferência e mapeamento para Positivo e Negativo\n",
    "ml_response=['Positivo' if response[1] >= 0.55 else  'Negativo' for response in model_lr.predict_proba(X_inference)]\n",
    "\n",
    "# adciona a coluna do Dataframe\n",
    "inference_dataset['sentimento_ML_LR'] = ml_response"
   ]
  },
  {
   "cell_type": "code",
   "execution_count": 47,
   "metadata": {},
   "outputs": [
    {
     "data": {
      "text/html": [
       "<div>\n",
       "<style scoped>\n",
       "    .dataframe tbody tr th:only-of-type {\n",
       "        vertical-align: middle;\n",
       "    }\n",
       "\n",
       "    .dataframe tbody tr th {\n",
       "        vertical-align: top;\n",
       "    }\n",
       "\n",
       "    .dataframe thead th {\n",
       "        text-align: right;\n",
       "    }\n",
       "</style>\n",
       "<table border=\"1\" class=\"dataframe\">\n",
       "  <thead>\n",
       "    <tr style=\"text-align: right;\">\n",
       "      <th></th>\n",
       "      <th>review_text</th>\n",
       "      <th>polarity</th>\n",
       "      <th>sentimento_ML_LR</th>\n",
       "    </tr>\n",
       "  </thead>\n",
       "  <tbody>\n",
       "    <tr>\n",
       "      <th>5789</th>\n",
       "      <td>Meu sogro tem e a imagem é simplesmente maravi...</td>\n",
       "      <td>1.0</td>\n",
       "      <td>Positivo</td>\n",
       "    </tr>\n",
       "    <tr>\n",
       "      <th>46044</th>\n",
       "      <td>Olá Meu nome e Rebeca , tenho o produto  Midea...</td>\n",
       "      <td>1.0</td>\n",
       "      <td>Positivo</td>\n",
       "    </tr>\n",
       "    <tr>\n",
       "      <th>57729</th>\n",
       "      <td>uma porcaria,não vale nada não gaste seu suado...</td>\n",
       "      <td>0.0</td>\n",
       "      <td>Negativo</td>\n",
       "    </tr>\n",
       "    <tr>\n",
       "      <th>75088</th>\n",
       "      <td>Uma excelente bicicleta para iniciantes. As ro...</td>\n",
       "      <td>1.0</td>\n",
       "      <td>Positivo</td>\n",
       "    </tr>\n",
       "    <tr>\n",
       "      <th>5720</th>\n",
       "      <td>microondas tem a porta muito dura de abrir, el...</td>\n",
       "      <td>0.0</td>\n",
       "      <td>Negativo</td>\n",
       "    </tr>\n",
       "    <tr>\n",
       "      <th>5873</th>\n",
       "      <td>Se quer qualidade e um bom produto adquirir sc...</td>\n",
       "      <td>1.0</td>\n",
       "      <td>Positivo</td>\n",
       "    </tr>\n",
       "    <tr>\n",
       "      <th>30049</th>\n",
       "      <td>O sistema giratório é muito eficiente pois jog...</td>\n",
       "      <td>1.0</td>\n",
       "      <td>Positivo</td>\n",
       "    </tr>\n",
       "    <tr>\n",
       "      <th>77224</th>\n",
       "      <td>OTIMO  POI O PACOTE OFFICE ME AUXILIA MUITO NO...</td>\n",
       "      <td>1.0</td>\n",
       "      <td>Positivo</td>\n",
       "    </tr>\n",
       "    <tr>\n",
       "      <th>40261</th>\n",
       "      <td>Bom\\n\\nO que gostei: Bom\\n\\nO que não gostei: ...</td>\n",
       "      <td>0.0</td>\n",
       "      <td>Positivo</td>\n",
       "    </tr>\n",
       "    <tr>\n",
       "      <th>83543</th>\n",
       "      <td>Esse celular é ótimo, pequeno e tem de tudo! S...</td>\n",
       "      <td>1.0</td>\n",
       "      <td>Positivo</td>\n",
       "    </tr>\n",
       "  </tbody>\n",
       "</table>\n",
       "</div>"
      ],
      "text/plain": [
       "                                             review_text  polarity  \\\n",
       "5789   Meu sogro tem e a imagem é simplesmente maravi...       1.0   \n",
       "46044  Olá Meu nome e Rebeca , tenho o produto  Midea...       1.0   \n",
       "57729  uma porcaria,não vale nada não gaste seu suado...       0.0   \n",
       "75088  Uma excelente bicicleta para iniciantes. As ro...       1.0   \n",
       "5720   microondas tem a porta muito dura de abrir, el...       0.0   \n",
       "5873   Se quer qualidade e um bom produto adquirir sc...       1.0   \n",
       "30049  O sistema giratório é muito eficiente pois jog...       1.0   \n",
       "77224  OTIMO  POI O PACOTE OFFICE ME AUXILIA MUITO NO...       1.0   \n",
       "40261  Bom\\n\\nO que gostei: Bom\\n\\nO que não gostei: ...       0.0   \n",
       "83543  Esse celular é ótimo, pequeno e tem de tudo! S...       1.0   \n",
       "\n",
       "      sentimento_ML_LR  \n",
       "5789          Positivo  \n",
       "46044         Positivo  \n",
       "57729         Negativo  \n",
       "75088         Positivo  \n",
       "5720          Negativo  \n",
       "5873          Positivo  \n",
       "30049         Positivo  \n",
       "77224         Positivo  \n",
       "40261         Positivo  \n",
       "83543         Positivo  "
      ]
     },
     "execution_count": 47,
     "metadata": {},
     "output_type": "execute_result"
    }
   ],
   "source": [
    "inference_dataset[['review_text','polarity','sentimento_ML_LR']]"
   ]
  },
  {
   "cell_type": "markdown",
   "metadata": {},
   "source": [
    "## Comparação com uma LLM- deeplearning"
   ]
  },
  {
   "cell_type": "code",
   "execution_count": 43,
   "metadata": {},
   "outputs": [
    {
     "name": "stderr",
     "output_type": "stream",
     "text": [
      "C:\\Users\\Public\\Documents\\Wondershare\\CreatorTemp\\ipykernel_11192\\1944767258.py:34: PydanticDeprecatedSince20: The `json` method is deprecated; use `model_dump_json` instead. Deprecated in Pydantic V2.0 to be removed in V3.0. See Pydantic V2 Migration Guide at https://errors.pydantic.dev/2.10/migration/\n",
      "  resposta = json.loads(response.json())\n"
     ]
    },
    {
     "data": {
      "text/html": [
       "<div>\n",
       "<style scoped>\n",
       "    .dataframe tbody tr th:only-of-type {\n",
       "        vertical-align: middle;\n",
       "    }\n",
       "\n",
       "    .dataframe tbody tr th {\n",
       "        vertical-align: top;\n",
       "    }\n",
       "\n",
       "    .dataframe thead th {\n",
       "        text-align: right;\n",
       "    }\n",
       "</style>\n",
       "<table border=\"1\" class=\"dataframe\">\n",
       "  <thead>\n",
       "    <tr style=\"text-align: right;\">\n",
       "      <th></th>\n",
       "      <th>review_text</th>\n",
       "      <th>polarity</th>\n",
       "      <th>sentimento_ML_LR</th>\n",
       "      <th>sentimento_llm</th>\n",
       "    </tr>\n",
       "  </thead>\n",
       "  <tbody>\n",
       "    <tr>\n",
       "      <th>5789</th>\n",
       "      <td>Meu sogro tem e a imagem é simplesmente maravi...</td>\n",
       "      <td>1.0</td>\n",
       "      <td>Positivo</td>\n",
       "      <td>Positivo</td>\n",
       "    </tr>\n",
       "    <tr>\n",
       "      <th>46044</th>\n",
       "      <td>Olá Meu nome e Rebeca , tenho o produto  Midea...</td>\n",
       "      <td>1.0</td>\n",
       "      <td>Positivo</td>\n",
       "      <td>Positivo</td>\n",
       "    </tr>\n",
       "    <tr>\n",
       "      <th>57729</th>\n",
       "      <td>uma porcaria,não vale nada não gaste seu suado...</td>\n",
       "      <td>0.0</td>\n",
       "      <td>Negativo</td>\n",
       "      <td>Não foi possível determinar o sentimento</td>\n",
       "    </tr>\n",
       "    <tr>\n",
       "      <th>75088</th>\n",
       "      <td>Uma excelente bicicleta para iniciantes. As ro...</td>\n",
       "      <td>1.0</td>\n",
       "      <td>Positivo</td>\n",
       "      <td>Positivo</td>\n",
       "    </tr>\n",
       "    <tr>\n",
       "      <th>5720</th>\n",
       "      <td>microondas tem a porta muito dura de abrir, el...</td>\n",
       "      <td>0.0</td>\n",
       "      <td>Negativo</td>\n",
       "      <td>Negativo</td>\n",
       "    </tr>\n",
       "    <tr>\n",
       "      <th>5873</th>\n",
       "      <td>Se quer qualidade e um bom produto adquirir sc...</td>\n",
       "      <td>1.0</td>\n",
       "      <td>Positivo</td>\n",
       "      <td>Positivo</td>\n",
       "    </tr>\n",
       "    <tr>\n",
       "      <th>30049</th>\n",
       "      <td>O sistema giratório é muito eficiente pois jog...</td>\n",
       "      <td>1.0</td>\n",
       "      <td>Positivo</td>\n",
       "      <td>Positivo</td>\n",
       "    </tr>\n",
       "    <tr>\n",
       "      <th>77224</th>\n",
       "      <td>OTIMO  POI O PACOTE OFFICE ME AUXILIA MUITO NO...</td>\n",
       "      <td>1.0</td>\n",
       "      <td>Positivo</td>\n",
       "      <td>Positivo</td>\n",
       "    </tr>\n",
       "    <tr>\n",
       "      <th>40261</th>\n",
       "      <td>Bom\\n\\nO que gostei: Bom\\n\\nO que não gostei: ...</td>\n",
       "      <td>0.0</td>\n",
       "      <td>Positivo</td>\n",
       "      <td>Positivo</td>\n",
       "    </tr>\n",
       "    <tr>\n",
       "      <th>83543</th>\n",
       "      <td>Esse celular é ótimo, pequeno e tem de tudo! S...</td>\n",
       "      <td>1.0</td>\n",
       "      <td>Positivo</td>\n",
       "      <td>Positivo</td>\n",
       "    </tr>\n",
       "  </tbody>\n",
       "</table>\n",
       "</div>"
      ],
      "text/plain": [
       "                                             review_text  polarity  \\\n",
       "5789   Meu sogro tem e a imagem é simplesmente maravi...       1.0   \n",
       "46044  Olá Meu nome e Rebeca , tenho o produto  Midea...       1.0   \n",
       "57729  uma porcaria,não vale nada não gaste seu suado...       0.0   \n",
       "75088  Uma excelente bicicleta para iniciantes. As ro...       1.0   \n",
       "5720   microondas tem a porta muito dura de abrir, el...       0.0   \n",
       "5873   Se quer qualidade e um bom produto adquirir sc...       1.0   \n",
       "30049  O sistema giratório é muito eficiente pois jog...       1.0   \n",
       "77224  OTIMO  POI O PACOTE OFFICE ME AUXILIA MUITO NO...       1.0   \n",
       "40261  Bom\\n\\nO que gostei: Bom\\n\\nO que não gostei: ...       0.0   \n",
       "83543  Esse celular é ótimo, pequeno e tem de tudo! S...       1.0   \n",
       "\n",
       "      sentimento_ML_LR                            sentimento_llm  \n",
       "5789          Positivo                                  Positivo  \n",
       "46044         Positivo                                  Positivo  \n",
       "57729         Negativo  Não foi possível determinar o sentimento  \n",
       "75088         Positivo                                  Positivo  \n",
       "5720          Negativo                                  Negativo  \n",
       "5873          Positivo                                  Positivo  \n",
       "30049         Positivo                                  Positivo  \n",
       "77224         Positivo                                  Positivo  \n",
       "40261         Positivo                                  Positivo  \n",
       "83543         Positivo                                  Positivo  "
      ]
     },
     "execution_count": 43,
     "metadata": {},
     "output_type": "execute_result"
    }
   ],
   "source": [
    "import os\n",
    "# importa a biblioteca de requisição da API \n",
    "from groq import Groq\n",
    "import pandas as pd\n",
    "import json\n",
    "# Configure a chave de API do Groq\n",
    "GROQ_API_KEY= \"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\"\n",
    "os.environ['GROQ_API_KEY'] = GROQ_API_KEY\n",
    "\n",
    "client = Groq(\n",
    "    api_key=os.environ.get(\"GROQ_API_KEY\"),\n",
    ")\n",
    "\n",
    "# Defina as frases que você deseja analisar\n",
    "frases = inference_dataset['review_text']\n",
    "\n",
    "# Crie uma lista para armazenar os resultados\n",
    "resultados = []\n",
    "\n",
    "# Loop pelas frases\n",
    "for frase in frases:\n",
    "    # Envie a requisição para a API do Groq\n",
    "    response = client.chat.completions.create(\n",
    "        messages=[\n",
    "            {\n",
    "                \"role\": \"user\",\n",
    "                \"content\": \"Classifique a seguinte frase como Negativo ou Positivo: \" + frase\n",
    "            }\n",
    "        ],\n",
    "        model=\"llama-3.3-70b-versatile\",\n",
    "    )\n",
    "    \n",
    "    # Verifique o sentimento da frase\n",
    "    resposta = json.loads(response.json())\n",
    "    if isinstance(resposta, dict) and 'choices' in resposta and len(resposta['choices']) > 0:\n",
    "        texto_resposta = resposta['choices'][0]['message']['content']\n",
    "        if \"Negativo\" in texto_resposta:\n",
    "            resultados.append(\"Negativo\")\n",
    "        elif \"Positivo\" in texto_resposta:\n",
    "            resultados.append(\"Positivo\")\n",
    "        else:\n",
    "            resultados.append(\"Não foi possível determinar o sentimento\")\n",
    "    else:\n",
    "        resultados.append(\"Não foi possível determinar o sentimento\")\n",
    "\n",
    "# Adicione os resultados ao DataFrame\n",
    "inference_dataset['sentimento_llm'] = resultados\n",
    "\n",
    "# Exiba o DataFrame com os resultados\n",
    "inference_dataset[['review_text','polarity','sentimento_ML_LR','sentimento_llm']]"
   ]
  },
  {
   "cell_type": "code",
   "execution_count": 51,
   "metadata": {},
   "outputs": [
    {
     "name": "stdout",
     "output_type": "stream",
     "text": [
      "Bom\n",
      "\n",
      "O que gostei: Bom\n",
      "\n",
      "O que não gostei: nenhuma\n"
     ]
    }
   ],
   "source": [
    "print(inference_dataset.iloc[-2,0])"
   ]
  }
 ],
 "metadata": {
  "kernelspec": {
   "display_name": ".venv",
   "language": "python",
   "name": "python3"
  },
  "language_info": {
   "codemirror_mode": {
    "name": "ipython",
    "version": 3
   },
   "file_extension": ".py",
   "mimetype": "text/x-python",
   "name": "python",
   "nbconvert_exporter": "python",
   "pygments_lexer": "ipython3",
   "version": "3.10.4"
  }
 },
 "nbformat": 4,
 "nbformat_minor": 4
}
